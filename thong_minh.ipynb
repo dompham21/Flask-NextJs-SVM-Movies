{
 "cells": [
  {
   "cell_type": "code",
   "execution_count": 14,
   "metadata": {
    "colab": {
     "base_uri": "https://localhost:8080/"
    },
    "id": "vdNGuDK7oraP",
    "outputId": "e9747ea8-4599-43d8-a926-2ab40e579be8"
   },
   "outputs": [
    {
     "name": "stdout",
     "output_type": "stream",
     "text": [
      "Requirement already satisfied: underthesea in /Library/Frameworks/Python.framework/Versions/3.9/lib/python3.9/site-packages (1.3.5)\n",
      "Requirement already satisfied: python-crfsuite>=0.9.6 in /Library/Frameworks/Python.framework/Versions/3.9/lib/python3.9/site-packages (from underthesea) (0.9.8)\n",
      "Requirement already satisfied: tqdm in /Library/Frameworks/Python.framework/Versions/3.9/lib/python3.9/site-packages (from underthesea) (4.64.1)\n",
      "Requirement already satisfied: joblib in /Library/Frameworks/Python.framework/Versions/3.9/lib/python3.9/site-packages (from underthesea) (1.2.0)\n",
      "Requirement already satisfied: nltk in /Library/Frameworks/Python.framework/Versions/3.9/lib/python3.9/site-packages (from underthesea) (3.7)\n",
      "Requirement already satisfied: underthesea-core==0.0.5a2 in /Library/Frameworks/Python.framework/Versions/3.9/lib/python3.9/site-packages (from underthesea) (0.0.5a2)\n",
      "Requirement already satisfied: unidecode in /Library/Frameworks/Python.framework/Versions/3.9/lib/python3.9/site-packages (from underthesea) (1.3.6)\n",
      "Requirement already satisfied: requests in /Library/Frameworks/Python.framework/Versions/3.9/lib/python3.9/site-packages (from underthesea) (2.28.1)\n",
      "Requirement already satisfied: PyYAML in /Library/Frameworks/Python.framework/Versions/3.9/lib/python3.9/site-packages (from underthesea) (6.0)\n",
      "Requirement already satisfied: Click>=6.0 in /Library/Frameworks/Python.framework/Versions/3.9/lib/python3.9/site-packages (from underthesea) (8.1.3)\n",
      "Requirement already satisfied: scikit-learn in /Library/Frameworks/Python.framework/Versions/3.9/lib/python3.9/site-packages (from underthesea) (1.1.1)\n",
      "Requirement already satisfied: regex>=2021.8.3 in /Library/Frameworks/Python.framework/Versions/3.9/lib/python3.9/site-packages (from nltk->underthesea) (2022.10.31)\n",
      "Requirement already satisfied: certifi>=2017.4.17 in /Library/Frameworks/Python.framework/Versions/3.9/lib/python3.9/site-packages (from requests->underthesea) (2022.9.24)\n",
      "Requirement already satisfied: urllib3<1.27,>=1.21.1 in /Library/Frameworks/Python.framework/Versions/3.9/lib/python3.9/site-packages (from requests->underthesea) (1.26.12)\n",
      "Requirement already satisfied: charset-normalizer<3,>=2 in /Library/Frameworks/Python.framework/Versions/3.9/lib/python3.9/site-packages (from requests->underthesea) (2.1.1)\n",
      "Requirement already satisfied: idna<4,>=2.5 in /Library/Frameworks/Python.framework/Versions/3.9/lib/python3.9/site-packages (from requests->underthesea) (3.4)\n",
      "Requirement already satisfied: scipy>=1.3.2 in /Library/Frameworks/Python.framework/Versions/3.9/lib/python3.9/site-packages (from scikit-learn->underthesea) (1.9.3)\n",
      "Requirement already satisfied: threadpoolctl>=2.0.0 in /Library/Frameworks/Python.framework/Versions/3.9/lib/python3.9/site-packages (from scikit-learn->underthesea) (3.1.0)\n",
      "Requirement already satisfied: numpy>=1.17.3 in /Library/Frameworks/Python.framework/Versions/3.9/lib/python3.9/site-packages (from scikit-learn->underthesea) (1.23.4)\n",
      "\n",
      "\u001b[1m[\u001b[0m\u001b[34;49mnotice\u001b[0m\u001b[1;39;49m]\u001b[0m\u001b[39;49m A new release of pip available: \u001b[0m\u001b[31;49m22.2.2\u001b[0m\u001b[39;49m -> \u001b[0m\u001b[32;49m22.3.1\u001b[0m\n",
      "\u001b[1m[\u001b[0m\u001b[34;49mnotice\u001b[0m\u001b[1;39;49m]\u001b[0m\u001b[39;49m To update, run: \u001b[0m\u001b[32;49mpip install --upgrade pip\u001b[0m\n"
     ]
    }
   ],
   "source": [
    "!pip install underthesea\n",
    "import pandas as pd\n",
    "import re\n",
    "from nltk import ngrams\n",
    "from sklearn import svm\n",
    "from sklearn.feature_extraction.text import TfidfVectorizer\n",
    "from underthesea import word_tokenize, text_normalize\n",
    "import joblib\n",
    "from sklearn.model_selection import train_test_split\n",
    "import os\n",
    "from sklearn.model_selection import cross_val_score"
   ]
  },
  {
   "cell_type": "code",
   "execution_count": 15,
   "metadata": {
    "id": "F6400vsWwjYx"
   },
   "outputs": [],
   "source": [
    "df = pd.read_csv('./input/dataset.csv')"
   ]
  },
  {
   "cell_type": "code",
   "execution_count": 16,
   "metadata": {
    "colab": {
     "base_uri": "https://localhost:8080/",
     "height": 424
    },
    "id": "GyPjmQKzyTTa",
    "outputId": "e20b0e93-c48f-4a75-ecef-4619ac5f233d"
   },
   "outputs": [
    {
     "data": {
      "text/html": [
       "<div>\n",
       "<style scoped>\n",
       "    .dataframe tbody tr th:only-of-type {\n",
       "        vertical-align: middle;\n",
       "    }\n",
       "\n",
       "    .dataframe tbody tr th {\n",
       "        vertical-align: top;\n",
       "    }\n",
       "\n",
       "    .dataframe thead th {\n",
       "        text-align: right;\n",
       "    }\n",
       "</style>\n",
       "<table border=\"1\" class=\"dataframe\">\n",
       "  <thead>\n",
       "    <tr style=\"text-align: right;\">\n",
       "      <th></th>\n",
       "      <th>Text</th>\n",
       "      <th>label</th>\n",
       "    </tr>\n",
       "  </thead>\n",
       "  <tbody>\n",
       "    <tr>\n",
       "      <th>0</th>\n",
       "      <td>Đoạn cuối 2 người bên nhau thêm nhạc nền nữa m...</td>\n",
       "      <td>1</td>\n",
       "    </tr>\n",
       "    <tr>\n",
       "      <th>1</th>\n",
       "      <td>Tiếc thật, đến tận bây giờ mới biết bộ phim nà...</td>\n",
       "      <td>1</td>\n",
       "    </tr>\n",
       "    <tr>\n",
       "      <th>2</th>\n",
       "      <td>Cười muốn chết luôn á</td>\n",
       "      <td>0</td>\n",
       "    </tr>\n",
       "    <tr>\n",
       "      <th>3</th>\n",
       "      <td>Hài thật rồi chưa bao giờ thấy con rối buồn cư...</td>\n",
       "      <td>0</td>\n",
       "    </tr>\n",
       "    <tr>\n",
       "      <th>4</th>\n",
       "      <td>2/9/2022 phim hay chỉ tiết cập diễn phụ. Rất c...</td>\n",
       "      <td>3</td>\n",
       "    </tr>\n",
       "    <tr>\n",
       "      <th>...</th>\n",
       "      <td>...</td>\n",
       "      <td>...</td>\n",
       "    </tr>\n",
       "    <tr>\n",
       "      <th>394</th>\n",
       "      <td>máy cái hình kinh quá ọe</td>\n",
       "      <td>2</td>\n",
       "    </tr>\n",
       "    <tr>\n",
       "      <th>395</th>\n",
       "      <td>nói chung là phim k hay. Nhạt</td>\n",
       "      <td>4</td>\n",
       "    </tr>\n",
       "    <tr>\n",
       "      <th>396</th>\n",
       "      <td>Kịch bản dở tệ</td>\n",
       "      <td>4</td>\n",
       "    </tr>\n",
       "    <tr>\n",
       "      <th>397</th>\n",
       "      <td>phim nhảm lắm</td>\n",
       "      <td>4</td>\n",
       "    </tr>\n",
       "    <tr>\n",
       "      <th>398</th>\n",
       "      <td>phim dỡ dã man luôn á</td>\n",
       "      <td>4</td>\n",
       "    </tr>\n",
       "  </tbody>\n",
       "</table>\n",
       "<p>399 rows × 2 columns</p>\n",
       "</div>"
      ],
      "text/plain": [
       "                                                  Text  label\n",
       "0    Đoạn cuối 2 người bên nhau thêm nhạc nền nữa m...      1\n",
       "1    Tiếc thật, đến tận bây giờ mới biết bộ phim nà...      1\n",
       "2                                Cười muốn chết luôn á      0\n",
       "3    Hài thật rồi chưa bao giờ thấy con rối buồn cư...      0\n",
       "4    2/9/2022 phim hay chỉ tiết cập diễn phụ. Rất c...      3\n",
       "..                                                 ...    ...\n",
       "394                           máy cái hình kinh quá ọe      2\n",
       "395                      nói chung là phim k hay. Nhạt      4\n",
       "396                                     Kịch bản dở tệ      4\n",
       "397                                      phim nhảm lắm      4\n",
       "398                              phim dỡ dã man luôn á      4\n",
       "\n",
       "[399 rows x 2 columns]"
      ]
     },
     "execution_count": 16,
     "metadata": {},
     "output_type": "execute_result"
    }
   ],
   "source": [
    "columns = ['Text', 'label']\n",
    "df.columns = columns\n",
    "df"
   ]
  },
  {
   "cell_type": "code",
   "execution_count": 17,
   "metadata": {
    "id": "Ncqi0PMpye1T"
   },
   "outputs": [],
   "source": [
    "def standardize_data(row):\n",
    "    # Xóa dấu chấm, phẩy, hỏi ở cuối câu\n",
    "    row = re.sub(r\"[\\.,\\?]+$-\", \"\", row)\n",
    "\n",
    "    # Xóa tất cả dấu chấm, phẩy, chấm phẩy, chấm thang, ... trong câu\n",
    "    row = row.replace(\",\", \" \").replace(\".\", \" \") \\\n",
    "        .replace(\";\", \" \").replace(\"“\", \" \") \\\n",
    "        .replace(\":\", \" \").replace(\"”\", \" \") \\\n",
    "        .replace('\"', \" \").replace(\"'\", \" \") \\\n",
    "        .replace(\"!\", \" \").replace(\"?\", \" \") \\\n",
    "        .replace(\"-\", \" \").replace(\"?\", \" \") \\\n",
    "        .replace(\")\", \" \").replace(\"=\", \" \") \\\n",
    "        .replace(\"(\", \" \").replace(\"}\", \" \") \n",
    "    row = row.strip()\n",
    "    return row"
   ]
  },
  {
   "cell_type": "code",
   "execution_count": 18,
   "metadata": {
    "id": "a4qBk9_Qyfmi"
   },
   "outputs": [],
   "source": [
    "def tokenizer(row):\n",
    "    return word_tokenize(row, format=\"text\")\n",
    "\n",
    "# sentence = ‘Chàng trai 9X Quảng Trị khởi nghiệp từ nấm sò’\n",
    "# >>> word_tokenize(sentence, format=”text”)’Chàng_trai 9X Quảng_Trị khởi_nghiệp từ nấm sò’“`\n",
    "# Work tokenizer chuyển 1 câu thành các word có nghĩa ( bao gồm cả từ đơn và từ ghép )"
   ]
  },
  {
   "cell_type": "code",
   "execution_count": 19,
   "metadata": {},
   "outputs": [],
   "source": [
    "def normalize(row):\n",
    "    return text_normalize(row) \n",
    "# Chuan hoa tu\n",
    "# >>> text_normalize('Ðảm baỏ chất lựơng phòng thí nghịêm hoá học')\n",
    "# 'Đảm bảo chất lượng phòng thí nghiệm hóa học'"
   ]
  },
  {
   "cell_type": "code",
   "execution_count": 20,
   "metadata": {
    "id": "tOtNC4NHyg-0"
   },
   "outputs": [],
   "source": [
    "def embedding(X_train, X_test):\n",
    "    global  emb\n",
    "    emb = TfidfVectorizer()\n",
    "    emb.fit(X_train)\n",
    "    X_train = emb.transform(X_train)\n",
    "    X_test = emb.transform(X_test)\n",
    "\n",
    "    # Save pkl file\n",
    "    joblib.dump(emb, './input/tfidf.pkl')\n",
    "    return X_train, X_test\n"
   ]
  },
  {
   "cell_type": "code",
   "execution_count": 21,
   "metadata": {},
   "outputs": [
    {
     "data": {
      "text/plain": [
       "3    109\n",
       "4     89\n",
       "1     86\n",
       "0     65\n",
       "2     50\n",
       "Name: label, dtype: int64"
      ]
     },
     "execution_count": 21,
     "metadata": {},
     "output_type": "execute_result"
    }
   ],
   "source": [
    "df['label'].value_counts()"
   ]
  },
  {
   "cell_type": "code",
   "execution_count": 22,
   "metadata": {
    "colab": {
     "base_uri": "https://localhost:8080/",
     "height": 706
    },
    "id": "HzT9c64gymyu",
    "outputId": "ef80cad6-6b56-4845-d5db-2a95489e23d1"
   },
   "outputs": [
    {
     "name": "stdout",
     "output_type": "stream",
     "text": [
      "                                                  Text  label\n",
      "0    đoạn cuối 2 người bên nhau thêm nhạc nền nữa m...      1\n",
      "1    tiếc thật đến tận bây_giờ mới biết bộ phim này...      1\n",
      "2                                cười muốn chết luôn á      0\n",
      "3    hài thật rồi chưa bao_giờ thấy con_rối buồn_cư...      0\n",
      "4    2/9/2022 phim hay chỉ tiết cập diễn phụ rất cả...      3\n",
      "..                                                 ...    ...\n",
      "394                           máy cái hình kinh quá ọe      2\n",
      "395                       nói_chung là phim k hay nhạt      4\n",
      "396                                     kịch_bản dở_tệ      4\n",
      "397                                      phim nhảm lắm      4\n",
      "398                              phim dỡ dã_man luôn á      4\n",
      "\n",
      "[399 rows x 2 columns]\n",
      "                                                  Text  label\n",
      "0    đoạn 2 nhạc mê xem cảm_nhận niềm hạnh_phúc trả...      1\n",
      "1            tiếc tận bộ phim phim hay cảm_xúc đã khóc      1\n",
      "2                                            cười chết      0\n",
      "3                       hài chưa con_rối buồn_cười lắm      0\n",
      "4         2/9/2022 phim hay tiết cập diễn phụ cảm_động      3\n",
      "..                                                 ...    ...\n",
      "394                               máy hình kinh quá ọe      2\n",
      "395                                    phim k hay nhạt      4\n",
      "396                                     kịch_bản dở_tệ      4\n",
      "397                                      phim nhảm lắm      4\n",
      "398                                     phim dỡ dã_man      4\n",
      "\n",
      "[399 rows x 2 columns]\n"
     ]
    },
    {
     "data": {
      "text/html": [
       "<div>\n",
       "<style scoped>\n",
       "    .dataframe tbody tr th:only-of-type {\n",
       "        vertical-align: middle;\n",
       "    }\n",
       "\n",
       "    .dataframe tbody tr th {\n",
       "        vertical-align: top;\n",
       "    }\n",
       "\n",
       "    .dataframe thead th {\n",
       "        text-align: right;\n",
       "    }\n",
       "</style>\n",
       "<table border=\"1\" class=\"dataframe\">\n",
       "  <thead>\n",
       "    <tr style=\"text-align: right;\">\n",
       "      <th></th>\n",
       "      <th>Text</th>\n",
       "      <th>label</th>\n",
       "    </tr>\n",
       "  </thead>\n",
       "  <tbody>\n",
       "    <tr>\n",
       "      <th>0</th>\n",
       "      <td>đoạn 2 nhạc mê xem cảm_nhận niềm hạnh_phúc trả...</td>\n",
       "      <td>1</td>\n",
       "    </tr>\n",
       "    <tr>\n",
       "      <th>1</th>\n",
       "      <td>tiếc tận bộ phim phim hay cảm_xúc đã khóc</td>\n",
       "      <td>1</td>\n",
       "    </tr>\n",
       "    <tr>\n",
       "      <th>2</th>\n",
       "      <td>cười chết</td>\n",
       "      <td>0</td>\n",
       "    </tr>\n",
       "    <tr>\n",
       "      <th>3</th>\n",
       "      <td>hài chưa con_rối buồn_cười lắm</td>\n",
       "      <td>0</td>\n",
       "    </tr>\n",
       "    <tr>\n",
       "      <th>4</th>\n",
       "      <td>2/9/2022 phim hay tiết cập diễn phụ cảm_động</td>\n",
       "      <td>3</td>\n",
       "    </tr>\n",
       "  </tbody>\n",
       "</table>\n",
       "</div>"
      ],
      "text/plain": [
       "                                                Text  label\n",
       "0  đoạn 2 nhạc mê xem cảm_nhận niềm hạnh_phúc trả...      1\n",
       "1          tiếc tận bộ phim phim hay cảm_xúc đã khóc      1\n",
       "2                                          cười chết      0\n",
       "3                     hài chưa con_rối buồn_cười lắm      0\n",
       "4       2/9/2022 phim hay tiết cập diễn phụ cảm_động      3"
      ]
     },
     "execution_count": 22,
     "metadata": {},
     "output_type": "execute_result"
    }
   ],
   "source": [
    "df['Text'] = df['Text'].str.lower()\n",
    "df['Text'] = df['Text'].apply(standardize_data)\n",
    "df['Text'] = df[\"Text\"] = df.Text.apply(tokenizer)\n",
    "df['Text'] = df[\"Text\"] = df.Text.apply(normalize)\n",
    "\n",
    "print(df)\n",
    "\n",
    "with open(\"./input/stopwords.txt\") as f:\n",
    "    stopwords = f.read().splitlines() \n",
    "\n",
    "df['Text'] = df['Text'].apply(lambda x: ' '.join([word for word in x.split() if word not in (stopwords)]))\n",
    "\n",
    "\n",
    "\n",
    "print(df)\n",
    "df.head()"
   ]
  },
  {
   "cell_type": "code",
   "execution_count": 23,
   "metadata": {
    "id": "Kk5qQFqJxxni"
   },
   "outputs": [],
   "source": [
    "X = df[\"Text\"]\n",
    "y = df[\"label\"]"
   ]
  },
  {
   "cell_type": "code",
   "execution_count": 24,
   "metadata": {
    "id": "VD5XUIDQyqYL"
   },
   "outputs": [],
   "source": [
    "X_train, X_test, y_train, y_test = train_test_split(X, y, test_size=0.2, random_state=2)"
   ]
  },
  {
   "cell_type": "code",
   "execution_count": 25,
   "metadata": {
    "id": "T7kZg9s5yw__"
   },
   "outputs": [],
   "source": [
    "X_train, X_test = embedding(X_train, X_test)"
   ]
  },
  {
   "cell_type": "code",
   "execution_count": 26,
   "metadata": {
    "colab": {
     "base_uri": "https://localhost:8080/"
    },
    "id": "drFP4znv2H3N",
    "outputId": "5cd4d50f-2ea7-4f29-d4f1-fdff24ac6ac6"
   },
   "outputs": [
    {
     "data": {
      "text/html": [
       "<style>#sk-container-id-1 {color: black;background-color: white;}#sk-container-id-1 pre{padding: 0;}#sk-container-id-1 div.sk-toggleable {background-color: white;}#sk-container-id-1 label.sk-toggleable__label {cursor: pointer;display: block;width: 100%;margin-bottom: 0;padding: 0.3em;box-sizing: border-box;text-align: center;}#sk-container-id-1 label.sk-toggleable__label-arrow:before {content: \"▸\";float: left;margin-right: 0.25em;color: #696969;}#sk-container-id-1 label.sk-toggleable__label-arrow:hover:before {color: black;}#sk-container-id-1 div.sk-estimator:hover label.sk-toggleable__label-arrow:before {color: black;}#sk-container-id-1 div.sk-toggleable__content {max-height: 0;max-width: 0;overflow: hidden;text-align: left;background-color: #f0f8ff;}#sk-container-id-1 div.sk-toggleable__content pre {margin: 0.2em;color: black;border-radius: 0.25em;background-color: #f0f8ff;}#sk-container-id-1 input.sk-toggleable__control:checked~div.sk-toggleable__content {max-height: 200px;max-width: 100%;overflow: auto;}#sk-container-id-1 input.sk-toggleable__control:checked~label.sk-toggleable__label-arrow:before {content: \"▾\";}#sk-container-id-1 div.sk-estimator input.sk-toggleable__control:checked~label.sk-toggleable__label {background-color: #d4ebff;}#sk-container-id-1 div.sk-label input.sk-toggleable__control:checked~label.sk-toggleable__label {background-color: #d4ebff;}#sk-container-id-1 input.sk-hidden--visually {border: 0;clip: rect(1px 1px 1px 1px);clip: rect(1px, 1px, 1px, 1px);height: 1px;margin: -1px;overflow: hidden;padding: 0;position: absolute;width: 1px;}#sk-container-id-1 div.sk-estimator {font-family: monospace;background-color: #f0f8ff;border: 1px dotted black;border-radius: 0.25em;box-sizing: border-box;margin-bottom: 0.5em;}#sk-container-id-1 div.sk-estimator:hover {background-color: #d4ebff;}#sk-container-id-1 div.sk-parallel-item::after {content: \"\";width: 100%;border-bottom: 1px solid gray;flex-grow: 1;}#sk-container-id-1 div.sk-label:hover label.sk-toggleable__label {background-color: #d4ebff;}#sk-container-id-1 div.sk-serial::before {content: \"\";position: absolute;border-left: 1px solid gray;box-sizing: border-box;top: 0;bottom: 0;left: 50%;z-index: 0;}#sk-container-id-1 div.sk-serial {display: flex;flex-direction: column;align-items: center;background-color: white;padding-right: 0.2em;padding-left: 0.2em;position: relative;}#sk-container-id-1 div.sk-item {position: relative;z-index: 1;}#sk-container-id-1 div.sk-parallel {display: flex;align-items: stretch;justify-content: center;background-color: white;position: relative;}#sk-container-id-1 div.sk-item::before, #sk-container-id-1 div.sk-parallel-item::before {content: \"\";position: absolute;border-left: 1px solid gray;box-sizing: border-box;top: 0;bottom: 0;left: 50%;z-index: -1;}#sk-container-id-1 div.sk-parallel-item {display: flex;flex-direction: column;z-index: 1;position: relative;background-color: white;}#sk-container-id-1 div.sk-parallel-item:first-child::after {align-self: flex-end;width: 50%;}#sk-container-id-1 div.sk-parallel-item:last-child::after {align-self: flex-start;width: 50%;}#sk-container-id-1 div.sk-parallel-item:only-child::after {width: 0;}#sk-container-id-1 div.sk-dashed-wrapped {border: 1px dashed gray;margin: 0 0.4em 0.5em 0.4em;box-sizing: border-box;padding-bottom: 0.4em;background-color: white;}#sk-container-id-1 div.sk-label label {font-family: monospace;font-weight: bold;display: inline-block;line-height: 1.2em;}#sk-container-id-1 div.sk-label-container {text-align: center;}#sk-container-id-1 div.sk-container {/* jupyter's `normalize.less` sets `[hidden] { display: none; }` but bootstrap.min.css set `[hidden] { display: none !important; }` so we also need the `!important` here to be able to override the default hidden behavior on the sphinx rendered scikit-learn.org. See: https://github.com/scikit-learn/scikit-learn/issues/21755 */display: inline-block !important;position: relative;}#sk-container-id-1 div.sk-text-repr-fallback {display: none;}</style><div id=\"sk-container-id-1\" class=\"sk-top-container\"><div class=\"sk-text-repr-fallback\"><pre>SVC(C=1, kernel=&#x27;linear&#x27;)</pre><b>In a Jupyter environment, please rerun this cell to show the HTML representation or trust the notebook. <br />On GitHub, the HTML representation is unable to render, please try loading this page with nbviewer.org.</b></div><div class=\"sk-container\" hidden><div class=\"sk-item\"><div class=\"sk-estimator sk-toggleable\"><input class=\"sk-toggleable__control sk-hidden--visually\" id=\"sk-estimator-id-1\" type=\"checkbox\" checked><label for=\"sk-estimator-id-1\" class=\"sk-toggleable__label sk-toggleable__label-arrow\">SVC</label><div class=\"sk-toggleable__content\"><pre>SVC(C=1, kernel=&#x27;linear&#x27;)</pre></div></div></div></div></div>"
      ],
      "text/plain": [
       "SVC(C=1, kernel='linear')"
      ]
     },
     "execution_count": 26,
     "metadata": {},
     "output_type": "execute_result"
    }
   ],
   "source": [
    "model = svm.SVC(kernel='linear', C = 1)\n",
    "model.fit(X_train,y_train)\n"
   ]
  },
  {
   "cell_type": "code",
   "execution_count": 27,
   "metadata": {
    "id": "AzQ8-m1mgAlL"
   },
   "outputs": [],
   "source": [
    "import pickle\n",
    "with open('./input/model.pkl','wb') as f:\n",
    "    pickle.dump(model,f)"
   ]
  },
  {
   "cell_type": "code",
   "execution_count": 28,
   "metadata": {
    "colab": {
     "base_uri": "https://localhost:8080/"
    },
    "id": "Q_1ciGt82K_8",
    "outputId": "3e1994e2-9bee-478c-b365-0781648a2846"
   },
   "outputs": [
    {
     "name": "stdout",
     "output_type": "stream",
     "text": [
      "              precision    recall  f1-score   support\n",
      "\n",
      "           0       0.82      0.75      0.78        12\n",
      "           1       0.94      0.71      0.81        21\n",
      "           2       0.71      0.62      0.67         8\n",
      "           3       0.58      0.82      0.68        22\n",
      "           4       0.80      0.71      0.75        17\n",
      "\n",
      "    accuracy                           0.74        80\n",
      "   macro avg       0.77      0.72      0.74        80\n",
      "weighted avg       0.77      0.74      0.74        80\n",
      "\n"
     ]
    }
   ],
   "source": [
    "from sklearn.metrics import classification_report\n",
    "\n",
    "y_pred = model.predict(X_test)\n",
    "print(classification_report(y_test, y_pred))"
   ]
  },
  {
   "cell_type": "code",
   "execution_count": 29,
   "metadata": {
    "id": "t7RR-BNP3idW"
   },
   "outputs": [],
   "source": [
    "# df_test = pd.DataFrame([\"phim xem xong mà muốn khóc\"])\n",
    "# df_test[0] = df_test[0].apply(standardize_data)\n",
    "# df_test[0] = df_test[0].apply(tokenizer)\n",
    "# X_val = df_test[0]\n",
    "# emb = joblib.load('tfidf.pkl')\n",
    "# X_val = emb.transform(X_val)\n",
    "# result = model.predict(X_val)\n",
    "\n",
    "# print(result[0])\n",
    "# x = model.predict(\"Chiết khấu tương đối tốt. Giao hàng tương đối nhanh. Phục vụ tốt. \")"
   ]
  }
 ],
 "metadata": {
  "colab": {
   "provenance": []
  },
  "kernelspec": {
   "display_name": "Python 3",
   "language": "python",
   "name": "python3"
  },
  "language_info": {
   "codemirror_mode": {
    "name": "ipython",
    "version": 3
   },
   "file_extension": ".py",
   "mimetype": "text/x-python",
   "name": "python",
   "nbconvert_exporter": "python",
   "pygments_lexer": "ipython3",
   "version": "3.10.6 (v3.10.6:9c7b4bd164, Aug  1 2022, 17:13:48) [Clang 13.0.0 (clang-1300.0.29.30)]"
  },
  "vscode": {
   "interpreter": {
    "hash": "aee8b7b246df8f9039afb4144a1f6fd8d2ca17a180786b69acc140d282b71a49"
   }
  }
 },
 "nbformat": 4,
 "nbformat_minor": 1
}
