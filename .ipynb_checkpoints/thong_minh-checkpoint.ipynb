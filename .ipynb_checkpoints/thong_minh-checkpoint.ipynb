{
 "cells": [
  {
   "cell_type": "code",
   "execution_count": 1,
   "metadata": {
    "colab": {
     "base_uri": "https://localhost:8080/"
    },
    "id": "vdNGuDK7oraP",
    "outputId": "e9747ea8-4599-43d8-a926-2ab40e579be8"
   },
   "outputs": [
    {
     "name": "stdout",
     "output_type": "stream",
     "text": [
      "Requirement already satisfied: underthesea in /Library/Frameworks/Python.framework/Versions/3.9/lib/python3.9/site-packages (1.3.5)\n",
      "Requirement already satisfied: underthesea-core==0.0.5a2 in /Library/Frameworks/Python.framework/Versions/3.9/lib/python3.9/site-packages (from underthesea) (0.0.5a2)\n",
      "Requirement already satisfied: unidecode in /Library/Frameworks/Python.framework/Versions/3.9/lib/python3.9/site-packages (from underthesea) (1.3.6)\n",
      "Requirement already satisfied: python-crfsuite>=0.9.6 in /Library/Frameworks/Python.framework/Versions/3.9/lib/python3.9/site-packages (from underthesea) (0.9.8)\n",
      "Requirement already satisfied: Click>=6.0 in /Library/Frameworks/Python.framework/Versions/3.9/lib/python3.9/site-packages (from underthesea) (8.1.3)\n",
      "Requirement already satisfied: scikit-learn in /Library/Frameworks/Python.framework/Versions/3.9/lib/python3.9/site-packages (from underthesea) (1.1.1)\n",
      "Requirement already satisfied: requests in /Library/Frameworks/Python.framework/Versions/3.9/lib/python3.9/site-packages (from underthesea) (2.28.1)\n",
      "Requirement already satisfied: nltk in /Library/Frameworks/Python.framework/Versions/3.9/lib/python3.9/site-packages (from underthesea) (3.7)\n",
      "Requirement already satisfied: PyYAML in /Library/Frameworks/Python.framework/Versions/3.9/lib/python3.9/site-packages (from underthesea) (6.0)\n",
      "Requirement already satisfied: tqdm in /Library/Frameworks/Python.framework/Versions/3.9/lib/python3.9/site-packages (from underthesea) (4.64.1)\n",
      "Requirement already satisfied: joblib in /Library/Frameworks/Python.framework/Versions/3.9/lib/python3.9/site-packages (from underthesea) (1.2.0)\n",
      "Requirement already satisfied: regex>=2021.8.3 in /Library/Frameworks/Python.framework/Versions/3.9/lib/python3.9/site-packages (from nltk->underthesea) (2022.10.31)\n",
      "Requirement already satisfied: idna<4,>=2.5 in /Library/Frameworks/Python.framework/Versions/3.9/lib/python3.9/site-packages (from requests->underthesea) (3.4)\n",
      "Requirement already satisfied: charset-normalizer<3,>=2 in /Library/Frameworks/Python.framework/Versions/3.9/lib/python3.9/site-packages (from requests->underthesea) (2.1.1)\n",
      "Requirement already satisfied: certifi>=2017.4.17 in /Library/Frameworks/Python.framework/Versions/3.9/lib/python3.9/site-packages (from requests->underthesea) (2022.9.24)\n",
      "Requirement already satisfied: urllib3<1.27,>=1.21.1 in /Library/Frameworks/Python.framework/Versions/3.9/lib/python3.9/site-packages (from requests->underthesea) (1.26.12)\n",
      "Requirement already satisfied: threadpoolctl>=2.0.0 in /Library/Frameworks/Python.framework/Versions/3.9/lib/python3.9/site-packages (from scikit-learn->underthesea) (3.1.0)\n",
      "Requirement already satisfied: scipy>=1.3.2 in /Library/Frameworks/Python.framework/Versions/3.9/lib/python3.9/site-packages (from scikit-learn->underthesea) (1.9.3)\n",
      "Requirement already satisfied: numpy>=1.17.3 in /Library/Frameworks/Python.framework/Versions/3.9/lib/python3.9/site-packages (from scikit-learn->underthesea) (1.23.4)\n",
      "\n",
      "\u001b[1m[\u001b[0m\u001b[34;49mnotice\u001b[0m\u001b[1;39;49m]\u001b[0m\u001b[39;49m A new release of pip available: \u001b[0m\u001b[31;49m22.2.2\u001b[0m\u001b[39;49m -> \u001b[0m\u001b[32;49m22.3.1\u001b[0m\n",
      "\u001b[1m[\u001b[0m\u001b[34;49mnotice\u001b[0m\u001b[1;39;49m]\u001b[0m\u001b[39;49m To update, run: \u001b[0m\u001b[32;49mpip install --upgrade pip\u001b[0m\n"
     ]
    }
   ],
   "source": [
    "!pip install underthesea\n",
    "import pandas as pd\n",
    "import re\n",
    "from nltk import ngrams\n",
    "from sklearn import svm\n",
    "from sklearn.feature_extraction.text import TfidfVectorizer\n",
    "from underthesea import word_tokenize, text_normalize\n",
    "import joblib\n",
    "from sklearn.model_selection import train_test_split\n",
    "import os\n",
    "from sklearn.model_selection import cross_val_score"
   ]
  },
  {
   "cell_type": "code",
   "execution_count": 2,
   "metadata": {
    "id": "F6400vsWwjYx"
   },
   "outputs": [],
   "source": [
    "df = pd.read_csv('./input/dataset.csv')"
   ]
  },
  {
   "cell_type": "code",
   "execution_count": 3,
   "metadata": {
    "colab": {
     "base_uri": "https://localhost:8080/",
     "height": 424
    },
    "id": "GyPjmQKzyTTa",
    "outputId": "e20b0e93-c48f-4a75-ecef-4619ac5f233d"
   },
   "outputs": [
    {
     "data": {
      "text/html": [
       "<div>\n",
       "<style scoped>\n",
       "    .dataframe tbody tr th:only-of-type {\n",
       "        vertical-align: middle;\n",
       "    }\n",
       "\n",
       "    .dataframe tbody tr th {\n",
       "        vertical-align: top;\n",
       "    }\n",
       "\n",
       "    .dataframe thead th {\n",
       "        text-align: right;\n",
       "    }\n",
       "</style>\n",
       "<table border=\"1\" class=\"dataframe\">\n",
       "  <thead>\n",
       "    <tr style=\"text-align: right;\">\n",
       "      <th></th>\n",
       "      <th>Text</th>\n",
       "      <th>label</th>\n",
       "    </tr>\n",
       "  </thead>\n",
       "  <tbody>\n",
       "    <tr>\n",
       "      <th>0</th>\n",
       "      <td>Đoạn cuối 2 người bên nhau thêm nhạc nền nữa m...</td>\n",
       "      <td>1</td>\n",
       "    </tr>\n",
       "    <tr>\n",
       "      <th>1</th>\n",
       "      <td>Tiếc thật, đến tận bây giờ mới biết bộ phim nà...</td>\n",
       "      <td>1</td>\n",
       "    </tr>\n",
       "    <tr>\n",
       "      <th>2</th>\n",
       "      <td>Cười muốn chết luôn á</td>\n",
       "      <td>0</td>\n",
       "    </tr>\n",
       "    <tr>\n",
       "      <th>3</th>\n",
       "      <td>Hài thật rồi chưa bao giờ thấy con rối buồn cư...</td>\n",
       "      <td>0</td>\n",
       "    </tr>\n",
       "    <tr>\n",
       "      <th>4</th>\n",
       "      <td>2/9/2022 phim hay chỉ tiết cập diễn phụ. Rất c...</td>\n",
       "      <td>3</td>\n",
       "    </tr>\n",
       "    <tr>\n",
       "      <th>...</th>\n",
       "      <td>...</td>\n",
       "      <td>...</td>\n",
       "    </tr>\n",
       "    <tr>\n",
       "      <th>394</th>\n",
       "      <td>máy cái hình kinh quá ọe</td>\n",
       "      <td>2</td>\n",
       "    </tr>\n",
       "    <tr>\n",
       "      <th>395</th>\n",
       "      <td>nói chung là phim k hay. Nhạt</td>\n",
       "      <td>4</td>\n",
       "    </tr>\n",
       "    <tr>\n",
       "      <th>396</th>\n",
       "      <td>Kịch bản dở tệ</td>\n",
       "      <td>4</td>\n",
       "    </tr>\n",
       "    <tr>\n",
       "      <th>397</th>\n",
       "      <td>phim nhảm lắm</td>\n",
       "      <td>4</td>\n",
       "    </tr>\n",
       "    <tr>\n",
       "      <th>398</th>\n",
       "      <td>phim dỡ dã man luôn á</td>\n",
       "      <td>4</td>\n",
       "    </tr>\n",
       "  </tbody>\n",
       "</table>\n",
       "<p>399 rows × 2 columns</p>\n",
       "</div>"
      ],
      "text/plain": [
       "                                                  Text  label\n",
       "0    Đoạn cuối 2 người bên nhau thêm nhạc nền nữa m...      1\n",
       "1    Tiếc thật, đến tận bây giờ mới biết bộ phim nà...      1\n",
       "2                                Cười muốn chết luôn á      0\n",
       "3    Hài thật rồi chưa bao giờ thấy con rối buồn cư...      0\n",
       "4    2/9/2022 phim hay chỉ tiết cập diễn phụ. Rất c...      3\n",
       "..                                                 ...    ...\n",
       "394                           máy cái hình kinh quá ọe      2\n",
       "395                      nói chung là phim k hay. Nhạt      4\n",
       "396                                     Kịch bản dở tệ      4\n",
       "397                                      phim nhảm lắm      4\n",
       "398                              phim dỡ dã man luôn á      4\n",
       "\n",
       "[399 rows x 2 columns]"
      ]
     },
     "execution_count": 3,
     "metadata": {},
     "output_type": "execute_result"
    }
   ],
   "source": [
    "columns = ['Text', 'label']\n",
    "df.columns = columns\n",
    "df"
   ]
  },
  {
   "cell_type": "code",
   "execution_count": 4,
   "metadata": {
    "id": "Ncqi0PMpye1T"
   },
   "outputs": [],
   "source": [
    "def standardize_data(row):\n",
    "    # Xóa dấu chấm, phẩy, hỏi ở cuối câu\n",
    "    row = re.sub(r\"[\\.,\\?]+$-\", \"\", row)\n",
    "\n",
    "    # Xóa tất cả dấu chấm, phẩy, chấm phẩy, chấm thang, ... trong câu\n",
    "    row = row.replace(\",\", \" \").replace(\".\", \" \") \\\n",
    "        .replace(\";\", \" \").replace(\"“\", \" \") \\\n",
    "        .replace(\":\", \" \").replace(\"”\", \" \") \\\n",
    "        .replace('\"', \" \").replace(\"'\", \" \") \\\n",
    "        .replace(\"!\", \" \").replace(\"?\", \" \") \\\n",
    "        .replace(\"-\", \" \").replace(\"?\", \" \") \\\n",
    "        .replace(\")\", \" \").replace(\"=\", \" \") \\\n",
    "        .replace(\"(\", \" \").replace(\"}\", \" \") \n",
    "    row = row.strip()\n",
    "    return row"
   ]
  },
  {
   "cell_type": "code",
   "execution_count": 5,
   "metadata": {
    "id": "a4qBk9_Qyfmi"
   },
   "outputs": [],
   "source": [
    "def tokenizer(row):\n",
    "    return word_tokenize(row, format=\"text\")\n",
    "\n",
    "# sentence = ‘Chàng trai 9X Quảng Trị khởi nghiệp từ nấm sò’\n",
    "# >>> word_tokenize(sentence, format=”text”)’Chàng_trai 9X Quảng_Trị khởi_nghiệp từ nấm sò’“`\n",
    "# Work tokenizer chuyển 1 câu thành các word có nghĩa ( bao gồm cả từ đơn và từ ghép )"
   ]
  },
  {
   "cell_type": "code",
   "execution_count": 6,
   "metadata": {},
   "outputs": [],
   "source": [
    "def normalize(row):\n",
    "    return text_normalize(row) \n",
    "# Chuan hoa tu\n",
    "# >>> text_normalize('Ðảm baỏ chất lựơng phòng thí nghịêm hoá học')\n",
    "# 'Đảm bảo chất lượng phòng thí nghiệm hóa học'"
   ]
  },
  {
   "cell_type": "code",
   "execution_count": 7,
   "metadata": {
    "id": "tOtNC4NHyg-0"
   },
   "outputs": [],
   "source": [
    "def embedding(X_train, X_test):\n",
    "    global  emb\n",
    "    emb = TfidfVectorizer()\n",
    "    emb.fit(X_train)\n",
    "    X_train = emb.transform(X_train)\n",
    "    X_test = emb.transform(X_test)\n",
    "\n",
    "    # Save pkl file\n",
    "    joblib.dump(emb, './input/tfidf.pkl')\n",
    "    return X_train, X_test\n"
   ]
  },
  {
   "cell_type": "code",
   "execution_count": 13,
   "metadata": {},
   "outputs": [
    {
     "data": {
      "text/plain": [
       "3    109\n",
       "4     89\n",
       "1     86\n",
       "0     65\n",
       "2     50\n",
       "Name: label, dtype: int64"
      ]
     },
     "execution_count": 13,
     "metadata": {},
     "output_type": "execute_result"
    }
   ],
   "source": [
    "df['label'].value_counts()"
   ]
  },
  {
   "cell_type": "code",
   "execution_count": null,
   "metadata": {
    "colab": {
     "base_uri": "https://localhost:8080/",
     "height": 706
    },
    "id": "HzT9c64gymyu",
    "outputId": "ef80cad6-6b56-4845-d5db-2a95489e23d1"
   },
   "outputs": [],
   "source": [
    "df['Text'] = df['Text'].str.lower()\n",
    "df['Text'] = df['Text'].apply(standardize_data)\n",
    "df['Text'] = df[\"Text\"] = df.Text.apply(tokenizer)\n",
    "df['Text'] = df[\"Text\"] = df.Text.apply(normalize)\n",
    "\n",
    "print(df)\n",
    "\n",
    "with open(\"./input/stopwords.txt\") as f:\n",
    "    stopwords = f.read().splitlines() \n",
    "\n",
    "df['Text'] = df['Text'].apply(lambda x: ' '.join([word for word in x.split() if word not in (stopwords)]))\n",
    "\n",
    "\n",
    "\n",
    "print(df)\n",
    "df.head()"
   ]
  },
  {
   "cell_type": "code",
   "execution_count": null,
   "metadata": {
    "id": "Kk5qQFqJxxni"
   },
   "outputs": [],
   "source": [
    "X = df[\"Text\"]\n",
    "y = df[\"label\"]"
   ]
  },
  {
   "cell_type": "code",
   "execution_count": null,
   "metadata": {
    "id": "VD5XUIDQyqYL"
   },
   "outputs": [],
   "source": [
    "X_train, X_test, y_train, y_test = train_test_split(X, y, test_size=0.2, random_state=2)\n"
   ]
  },
  {
   "cell_type": "code",
   "execution_count": null,
   "metadata": {
    "id": "T7kZg9s5yw__"
   },
   "outputs": [],
   "source": [
    "X_train, X_test = embedding(X_train, X_test)"
   ]
  },
  {
   "cell_type": "code",
   "execution_count": null,
   "metadata": {
    "colab": {
     "base_uri": "https://localhost:8080/"
    },
    "id": "drFP4znv2H3N",
    "outputId": "5cd4d50f-2ea7-4f29-d4f1-fdff24ac6ac6"
   },
   "outputs": [],
   "source": [
    "model = svm.SVC(kernel='linear', C = 1)\n",
    "model.fit(X_train,y_train)\n"
   ]
  },
  {
   "cell_type": "code",
   "execution_count": null,
   "metadata": {
    "id": "AzQ8-m1mgAlL"
   },
   "outputs": [],
   "source": [
    "import pickle\n",
    "with open('./input/model.pkl','wb') as f:\n",
    "    pickle.dump(model,f)"
   ]
  },
  {
   "cell_type": "code",
   "execution_count": null,
   "metadata": {
    "colab": {
     "base_uri": "https://localhost:8080/"
    },
    "id": "Q_1ciGt82K_8",
    "outputId": "3e1994e2-9bee-478c-b365-0781648a2846"
   },
   "outputs": [],
   "source": [
    "from sklearn.metrics import classification_report\n",
    "\n",
    "y_pred = model.predict(X_test)\n",
    "print(classification_report(y_test, y_pred))"
   ]
  },
  {
   "cell_type": "code",
   "execution_count": null,
   "metadata": {
    "id": "t7RR-BNP3idW"
   },
   "outputs": [],
   "source": [
    "# df_test = pd.DataFrame([\"phim xem xong mà muốn khóc\"])\n",
    "# df_test[0] = df_test[0].apply(standardize_data)\n",
    "# df_test[0] = df_test[0].apply(tokenizer)\n",
    "# X_val = df_test[0]\n",
    "# emb = joblib.load('tfidf.pkl')\n",
    "# X_val = emb.transform(X_val)\n",
    "# result = model.predict(X_val)\n",
    "\n",
    "# print(result[0])\n",
    "# x = model.predict(\"Chiết khấu tương đối tốt. Giao hàng tương đối nhanh. Phục vụ tốt. \")"
   ]
  }
 ],
 "metadata": {
  "colab": {
   "provenance": []
  },
  "kernelspec": {
   "display_name": "Python 3 (ipykernel)",
   "language": "python",
   "name": "python3"
  },
  "language_info": {
   "codemirror_mode": {
    "name": "ipython",
    "version": 3
   },
   "file_extension": ".py",
   "mimetype": "text/x-python",
   "name": "python",
   "nbconvert_exporter": "python",
   "pygments_lexer": "ipython3",
   "version": "3.9.5"
  }
 },
 "nbformat": 4,
 "nbformat_minor": 1
}
